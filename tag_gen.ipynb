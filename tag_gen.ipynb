{
 "cells": [
  {
   "cell_type": "markdown",
   "id": "06880719",
   "metadata": {},
   "source": [
    "# This should take\n",
    "- an epitope list (consisting of ID, amino acid sequence) of length _n_\n",
    "- a _k_ to generate\n",
    "- an inter-epitope linker (amino acid, hard code for now)\n",
    "- a scaffold-epitope linker (amino acid; hard code)\n",
    "- account for specified ORF?\n",
    "\n",
    "## some math stuff\n",
    "- _n_ choose _k_ without replacement\n",
    "# output\n",
    "- a list of epitope_IDS (i.e. ID-ID-ID), Xmas insert to be cloned into GFP -- the gBlock, basically\n",
    "- the final GFP-epitope structure for each\n",
    "- check that final structure does not exceed AAV payload (section between ITRs)\n",
    "## bonus items\n",
    "- codon optimization\n",
    "- a snapgene/DNA scaffold\n",
    "- restriction cloning mimc\n",
    "\n",
    "# some biology stuff, i.e. order of events\n",
    "For TBD reasons, DNAchisel doesn't work on OsX for conda istall (with no visible errors). Probably a version issue, but ?Workflow is:\n",
    "1. AA: epitope combos + appropriate linkers\n",
    "2. codon-optimize (mus musculus, avoid EcoRI + BsrGI sites) to DNA seq\n",
    "3. Add cloning tails (known; identical) with primer length?\n",
    "    primers can come from main GFP\n",
    "4. Output gBlock sequences (how does Genscript want these?)\n"
   ]
  },
  {
   "cell_type": "code",
   "execution_count": 40,
   "id": "0b52d167",
   "metadata": {},
   "outputs": [],
   "source": [
    "import itertools\n",
    "import pandas as pd\n",
    "from itertools import combinations\n",
    "import random\n",
    "from dnachisel import *\n",
    "from datetime import datetime as dt"
   ]
  },
  {
   "cell_type": "code",
   "execution_count": 43,
   "id": "93e30d8e",
   "metadata": {},
   "outputs": [
    {
     "data": {
      "text/plain": [
       "'220420'"
      ]
     },
     "execution_count": 43,
     "metadata": {},
     "output_type": "execute_result"
    }
   ],
   "source": [
    "today_str = dt.now().strftime(\"%y%m%d\")\n",
    "today_str"
   ]
  },
  {
   "cell_type": "code",
   "execution_count": 10,
   "id": "5c8c1e8b",
   "metadata": {
    "code_folding": [
     0
    ]
   },
   "outputs": [],
   "source": [
    "def rSubset(arr, r):\n",
    "    '''return list of all subsets from an array of length r - i.e. from array choose k'''\n",
    "    # return list of all subsets of length r\n",
    "    # to deal with duplicate subsets use \n",
    "    # set(list(combinations(arr, r)))\n",
    "    return list(combinations(arr, r))"
   ]
  },
  {
   "cell_type": "code",
   "execution_count": 11,
   "id": "5499bc36",
   "metadata": {
    "code_folding": [
     0
    ]
   },
   "outputs": [],
   "source": [
    "def triplicator(epitope_sets, repeats=1):\n",
    "    '''takes a list of single epitopes and generates aa amino acid with # linkrs'''\n",
    "    triple_set = []\n",
    "    for ep in epitope_sets:\n",
    "        new_ep = [(ep) for _ in range(3)]\n",
    "        triple_set.append(new_ep)\n",
    "    return triple_set"
   ]
  },
  {
   "cell_type": "code",
   "execution_count": 12,
   "id": "522ae7c9",
   "metadata": {
    "code_folding": [
     0
    ]
   },
   "outputs": [],
   "source": [
    "def makeTag(epitope_sets, linker=None, prepend_linker=None, append_linker=None):\n",
    "    '''from a list of tuples, combine name sets + epitope sets with specified inter-epitope.\n",
    "    just some string manip, basically.\n",
    "    shuffles multi-epitope n choose k setups\n",
    "    if a prepend is supplied, will add the specified prepend'''\n",
    "    # collector of new things\n",
    "    knockin = [] #the tag we're knocking in\n",
    "    \n",
    "    # loop the old things\n",
    "    for epitope_set in epitope_sets:\n",
    "        # construct name and seq into new lists\n",
    "        name = []\n",
    "        seq = []\n",
    "        \n",
    "        #shuffler to avoid bias in epitope success\n",
    "        to_shuffle = list(epitope_set)\n",
    "        random.shuffle(to_shuffle) \n",
    "        epitope_set = tuple(to_shuffle)\n",
    "        \n",
    "        # make array\n",
    "        for i in range(len(epitope_set)):\n",
    "            name.append(epitope_set[i][0].replace(' ',''))\n",
    "            seq.append(epitope_set[i][1].strip(' '))\n",
    "\n",
    "        # construct final name and sequence and append\n",
    "        name = f'-'.join(name) # name that puppy\n",
    "        seq = f'{linker}'.join(seq) #make the tag sequence\n",
    "        \n",
    "        if prepend_linker:\n",
    "            seq = prepend_linker + seq\n",
    "        if append_linker:\n",
    "            seq = seq + append_linker\n",
    "        knockin.append((name, seq)) #add to array\n",
    "\n",
    "    # return new things as a dictionary\n",
    "    return dict(knockin)"
   ]
  },
  {
   "cell_type": "code",
   "execution_count": 13,
   "id": "2cb8617d",
   "metadata": {},
   "outputs": [],
   "source": [
    "interEp = \"GGSGGS\" #[GGS]2. for in between epitopes\n",
    "interScaffEp = \"GGSGGS\" #linker between eGFP end and beginning of tag\n",
    "\n",
    "preEpitope =\"ggacgagctgtacaag\" #end of eGFP with BsrGI site\n",
    "endEpitope = \"taagaattcgatatcaag\" #stop codon + EcoRI\n"
   ]
  },
  {
   "cell_type": "code",
   "execution_count": 14,
   "id": "6df98031",
   "metadata": {},
   "outputs": [],
   "source": [
    "def read_list(csv, columns = None):\n",
    "    '''returns records of name + aa seq'''\n",
    "    epitopes = pd.read_csv(csv)\n",
    "    records = epitopes[columns].to_records(index=False)\n",
    "    return records"
   ]
  },
  {
   "cell_type": "code",
   "execution_count": 15,
   "id": "e289e655",
   "metadata": {},
   "outputs": [],
   "source": [
    "all_list = read_list('220419_good-epitopes.csv', columns = ['Name', 'AA seq'])\n",
    "xmas_list = read_list('xmas-in-july_tagSet.csv', columns = ['Name', 'AA seq'])\n",
    "jun_list = read_list('Human Protein Atlas - under 40 AAs.csv', columns = ['Antibody','Antigen Sequence'])"
   ]
  },
  {
   "cell_type": "code",
   "execution_count": 33,
   "id": "594637c6",
   "metadata": {},
   "outputs": [],
   "source": [
    "xmas_sets = ['xmas',\n",
    "             rSubset(xmas_list, 3)] #combo subset\n",
    "singlets = ['singlets',\n",
    "            rSubset(all_list,1)] # just easy\n",
    "triplicates = ['triplicates',\n",
    "               triplicator(all_list,3)]\n",
    "jun_triplicates = ['HPA_set',\n",
    "                   triplicator(jun_list,3)]\n",
    "\n",
    "tagSets = [xmas_sets, singlets, triplicates, jun_triplicates] # put these together"
   ]
  },
  {
   "cell_type": "code",
   "execution_count": 46,
   "id": "a8c9f852",
   "metadata": {},
   "outputs": [],
   "source": [
    "columns = ['seq_name', 'seq_aa']\n",
    "df = pd.DataFrame(columns = columns)\n",
    "\n",
    "tagType = \"c-terminal\"\n",
    "\n",
    "for tagSet in tagSets:\n",
    "    nameSave = tagSet[0]\n",
    "    tagDict = makeTag(tagSet[1],interEp,\"GGSGGS\") #make amino acid sequences    \n",
    "    df = pd.DataFrame(tagDict.items(), columns = columns)\n",
    "    df['prepend_DNA'] = preEpitope\n",
    "    df['append_DNA'] = endEpitope\n",
    "    df.to_excel((f'{today_str}_{nameSave}-{tagType}.xlsx'))\n"
   ]
  },
  {
   "cell_type": "code",
   "execution_count": 3,
   "id": "6baf57e0",
   "metadata": {},
   "outputs": [
    {
     "ename": "NameError",
     "evalue": "name 'df' is not defined",
     "output_type": "error",
     "traceback": [
      "\u001b[0;31m---------------------------------------------------------------------------\u001b[0m",
      "\u001b[0;31mNameError\u001b[0m                                 Traceback (most recent call last)",
      "Input \u001b[0;32mIn [3]\u001b[0m, in \u001b[0;36m<cell line: 1>\u001b[0;34m()\u001b[0m\n\u001b[0;32m----> 1\u001b[0m \u001b[43mdf\u001b[49m[\u001b[38;5;124m'\u001b[39m\u001b[38;5;124mprepend_DNA\u001b[39m\u001b[38;5;124m'\u001b[39m] \u001b[38;5;241m=\u001b[39m preEpitope\n\u001b[1;32m      2\u001b[0m df[\u001b[38;5;124m'\u001b[39m\u001b[38;5;124mappend_DNA\u001b[39m\u001b[38;5;124m'\u001b[39m] \u001b[38;5;241m=\u001b[39m endEpitope\n",
      "\u001b[0;31mNameError\u001b[0m: name 'df' is not defined"
     ]
    }
   ],
   "source": []
  },
  {
   "cell_type": "code",
   "execution_count": null,
   "id": "85fd741a",
   "metadata": {},
   "outputs": [],
   "source": [
    "## df.to_excel('c-terminal-tags.xlsx')\n",
    "# save the excel"
   ]
  },
  {
   "cell_type": "markdown",
   "id": "ceea1c8d",
   "metadata": {},
   "source": [
    "# removing cut sites\n",
    "\n",
    "This is very hacky and ugly, but taking the IDT generated codon opt and checking for BsrGI + EcoRI sites."
   ]
  },
  {
   "cell_type": "code",
   "execution_count": 4,
   "id": "d4c691b9",
   "metadata": {},
   "outputs": [],
   "source": [
    "seqs = pd.read_excel('c-terminal-tags_codonOptimized.xlsx')"
   ]
  },
  {
   "cell_type": "code",
   "execution_count": 5,
   "id": "9bc3efbd",
   "metadata": {},
   "outputs": [
    {
     "data": {
      "text/plain": [
       "[TGTACA (BsrGI), GAATTC (EcoRI)]"
      ]
     },
     "execution_count": 5,
     "metadata": {},
     "output_type": "execute_result"
    }
   ],
   "source": [
    "cloning_RE = [EnzymeSitePattern(\"BsrGI\"), EnzymeSitePattern(\"EcoRI\")]\n",
    "\n",
    "cloning_RE"
   ]
  },
  {
   "cell_type": "code",
   "execution_count": 8,
   "id": "17e742fb",
   "metadata": {},
   "outputs": [],
   "source": [
    "seqs['BsrGI-site'] = seqs['IDT optimized'].str.contains((\"TGTACA\"))\n",
    "seqs['EcoRI-site'] = seqs['IDT optimized'].str.contains((\"GAATTC\"))"
   ]
  },
  {
   "cell_type": "code",
   "execution_count": 11,
   "id": "3f06e794",
   "metadata": {},
   "outputs": [],
   "source": [
    "seqs.to_excel('flagged.xlsx')"
   ]
  },
  {
   "cell_type": "code",
   "execution_count": null,
   "id": "24f4e650",
   "metadata": {},
   "outputs": [],
   "source": [
    "# problem = DnaOptimizationProblem(\n",
    "#     sequence=\"tgtacaGGAGGCTCCGGtgtacaAGGTTCTACCGATTTTTACCTTAAGGAATTC\",\n",
    "#     objectives=[\n",
    "#         AvoidPattern(\"TGTACA\"), #EcoRI - hacky but oh well, can write iterator later\n",
    "#         AvoidPattern(cloning_RE[1]), #BsrGI\n",
    "#     ]\n",
    "# )\n",
    "\n",
    "# # SOLVE THE CONSTRAINTS, OPTIMIZE WITH RESPECT TO THE OBJECTIVE\n",
    "\n",
    "# problem.resolve_constraints()\n",
    "# problem.optimize()\n",
    "\n",
    "# # PRINT SUMMARIES TO CHECK THAT CONSTRAINTS PASS\n",
    "\n",
    "# print(problem.constraints_text_summary())\n",
    "# print(problem.objectives_text_summary())\n",
    "# print(problem.sequence_before)\n",
    "# print(problem.sequence)\n",
    "# # GET THE FINAL SEQUENCE (AS STRING OR ANNOTATED BIOPYTHON RECORDS)\n",
    "\n",
    "# final_sequence = problem.sequence  # string\n",
    "# final_record = problem.to_record(with_sequence_edits=True)\n"
   ]
  },
  {
   "cell_type": "code",
   "execution_count": null,
   "id": "61ca82b0",
   "metadata": {},
   "outputs": [],
   "source": [
    "final_record"
   ]
  },
  {
   "cell_type": "code",
   "execution_count": null,
   "id": "94ef601a",
   "metadata": {},
   "outputs": [],
   "source": []
  },
  {
   "cell_type": "code",
   "execution_count": null,
   "id": "da082f78",
   "metadata": {},
   "outputs": [],
   "source": [
    "# # \n",
    "### basically it would be nice to call things \"GGS-Flagx3\" rather than flag flag flag but too bad\n",
    "# something breaks when _ or - are in the name\n",
    "# probably needs regex but lil clean up for names\n",
    "\n",
    "# # initializing string \n",
    "# test_str = \"HPA052507-HPA052507HPA052507\"\n",
    "  \n",
    "# # printing original string \n",
    "# print(\"The original string is : \" + test_str)\n",
    "  \n",
    "# # using list slicing + find()\n",
    "# # Check if string repeats itself\n",
    "# res = None\n",
    "# temp = (test_str + test_str).find(test_str, 1, -1)\n",
    "# if temp != -1:\n",
    "#     res = test_str[:temp]\n",
    "\n",
    "# print(res)\n",
    "# # print(\"The root substring of string : \" + res)"
   ]
  },
  {
   "cell_type": "code",
   "execution_count": null,
   "id": "085c7fd9",
   "metadata": {},
   "outputs": [],
   "source": []
  },
  {
   "cell_type": "markdown",
   "id": "aae18e67",
   "metadata": {},
   "source": [
    "# codon optimization o'clock\n",
    "- avoid BsrGI + EcoRI\n",
    "- optimize for Mus musculus\n",
    "- append cloning tails"
   ]
  },
  {
   "cell_type": "code",
   "execution_count": null,
   "id": "e689b104",
   "metadata": {},
   "outputs": [],
   "source": [
    "test = triplet_Tags['FLAG_FLAG_FLAG']"
   ]
  },
  {
   "cell_type": "code",
   "execution_count": null,
   "id": "9f1fad05",
   "metadata": {},
   "outputs": [],
   "source": [
    "cloning_RE = [EnzymeSitePattern(\"BsrGI\"), EnzymeSitePattern(\"EcoRI\")]\n",
    "cloning_RE"
   ]
  },
  {
   "cell_type": "code",
   "execution_count": null,
   "id": "e48b72d4",
   "metadata": {},
   "outputs": [],
   "source": [
    "def translate(seq):\n",
    "    start_seq = reverse_translate(test,\n",
    "                                  randomize_codons=True,\n",
    "                                  table = 'Standard')"
   ]
  },
  {
   "cell_type": "code",
   "execution_count": null,
   "id": "21889b64",
   "metadata": {},
   "outputs": [],
   "source": [
    "\n",
    "problem = DnaOptimizationProblem(\n",
    "    sequence=seq_test,\n",
    "    constraints=[\n",
    "        AvoidPattern(cloning_RE[0]), #EcoRI - hacky but oh well, can write iterator later\n",
    "        AvoidPattern(cloning_RE[1]), #BsrGI\n",
    "    ],\n",
    "    objectives=[CodonOptimize(species='m_musculus_domesticus')]\n",
    ")\n",
    "\n",
    "# SOLVE THE CONSTRAINTS, OPTIMIZE WITH RESPECT TO THE OBJECTIVE\n",
    "\n",
    "problem.resolve_constraints()\n",
    "problem.optimize()\n",
    "\n",
    "# PRINT SUMMARIES TO CHECK THAT CONSTRAINTS PASS\n",
    "\n",
    "print(problem.constraints_text_summary())\n",
    "print(problem.objectives_text_summary())\n",
    "\n",
    "# GET THE FINAL SEQUENCE (AS STRING OR ANNOTATED BIOPYTHON RECORDS)\n",
    "\n",
    "final_sequence = problem.sequence  # string\n",
    "final_record = problem.to_record(with_sequence_edits=True)\n"
   ]
  },
  {
   "cell_type": "code",
   "execution_count": null,
   "id": "04d4cb4d",
   "metadata": {},
   "outputs": [],
   "source": [
    "print(final_sequence)"
   ]
  },
  {
   "cell_type": "code",
   "execution_count": null,
   "id": "1da3610a",
   "metadata": {},
   "outputs": [],
   "source": []
  }
 ],
 "metadata": {
  "kernelspec": {
   "display_name": "Python 3 (ipykernel)",
   "language": "python",
   "name": "python3"
  },
  "language_info": {
   "codemirror_mode": {
    "name": "ipython",
    "version": 3
   },
   "file_extension": ".py",
   "mimetype": "text/x-python",
   "name": "python",
   "nbconvert_exporter": "python",
   "pygments_lexer": "ipython3",
   "version": "3.9.12"
  }
 },
 "nbformat": 4,
 "nbformat_minor": 5
}
