{
 "cells": [
  {
   "cell_type": "markdown",
   "id": "06880719",
   "metadata": {},
   "source": [
    "# This should take\n",
    "- an epitope list (consisting of ID, amino acid sequence) of length _n_\n",
    "- a _k_ to generate\n",
    "- an inter-epitope linker (amino acid, hard code for now)\n",
    "- a scaffold-epitope linker (amino acid; hard code)\n",
    "- account for specified ORF?\n",
    "\n",
    "## some math stuff\n",
    "- _n_ choose _k_ without replacement\n",
    "# output\n",
    "- a list of epitope_IDS (i.e. ID-ID-ID), Xmas insert to be cloned into GFP\n",
    "- the final GFP-epitope structure for each\n",
    "- check that final structure does not exceed AAV payload (section between ITRs)\n",
    "## bonus items\n",
    "- codon optimization\n",
    "- a snapgene/DNA scaffold\n",
    "- restriction cloning mimc"
   ]
  },
  {
   "cell_type": "code",
   "execution_count": 18,
   "id": "0b52d167",
   "metadata": {},
   "outputs": [],
   "source": [
    "import itertools\n",
    "import pandas as pd\n",
    "from itertools import combinations"
   ]
  },
  {
   "cell_type": "code",
   "execution_count": 19,
   "id": "f5224d73",
   "metadata": {},
   "outputs": [],
   "source": [
    "epitope_fi = 'test_epitopes.csv'\n",
    "n = 9\n",
    "k = 3\n",
    "interEp = \"GGSGGS\" #[GGS]2\n",
    "interScaffEp = \"GGSGGS\"\n",
    "orf_buffer = 2"
   ]
  },
  {
   "cell_type": "code",
   "execution_count": 20,
   "id": "26617cc9",
   "metadata": {},
   "outputs": [],
   "source": [
    "epitopes = pd.read_csv(epitope_fi)\n",
    "tupled = epitopes.to_records(index=False)"
   ]
  },
  {
   "cell_type": "code",
   "execution_count": 21,
   "id": "5e18a75e",
   "metadata": {},
   "outputs": [],
   "source": [
    "def rSubset(arr, r):\n",
    "    # return list of all subsets of length r\n",
    "    # to deal with duplicate subsets use \n",
    "    # set(list(combinations(arr, r)))\n",
    "    return list(combinations(arr, r))"
   ]
  },
  {
   "cell_type": "code",
   "execution_count": 22,
   "id": "291587e8",
   "metadata": {},
   "outputs": [
    {
     "name": "stdout",
     "output_type": "stream",
     "text": [
      "84\n"
     ]
    }
   ],
   "source": [
    "sets = rSubset(tupled, k)\n",
    "print(len(sets)) # sanity check that n choose k is correct"
   ]
  },
  {
   "cell_type": "code",
   "execution_count": 26,
   "id": "1949e793",
   "metadata": {},
   "outputs": [
    {
     "data": {
      "text/plain": [
       "[(('aaa', 'AAAAAAA'), ('bbb', 'BBBB'), ('ddd', ' DDDD')),\n",
       " (('aaa', 'AAAAAAA'), ('bbb', 'BBBB'), ('eee', ' EEEEE')),\n",
       " (('aaa', 'AAAAAAA'), ('bbb', 'BBBB'), ('fff', ' ffffff'))]"
      ]
     },
     "execution_count": 26,
     "metadata": {},
     "output_type": "execute_result"
    }
   ],
   "source": [
    "sets[1:4]"
   ]
  },
  {
   "cell_type": "code",
   "execution_count": null,
   "id": "76b4b950",
   "metadata": {},
   "outputs": [],
   "source": [
    "aaabbbccc, fronntAAAAlinkerBBBBlinkerCCCCtail"
   ]
  },
  {
   "cell_type": "code",
   "execution_count": null,
   "id": "30016e7b",
   "metadata": {},
   "outputs": [],
   "source": [
    "def output_epitope(combination, repeat, linker):\n",
    "        list_chars = [i * repeat for i in combination]\n",
    "        linker = '-' + linker + \"-\"\n",
    "        s = linker.join(list_chars)\n",
    "        return s\n",
    "    ...: \n",
    "    ...: \n",
    "    ...:\n",
    "    ...: \n",
    "    ...: output_epitope(combination, repeat, linker)\n",
    "Out[11]: 'AAA-GGSGGS-BBB-GGSGGS-CCC'"
   ]
  },
  {
   "cell_type": "code",
   "execution_count": 15,
   "id": "16c889f8",
   "metadata": {},
   "outputs": [
    {
     "data": {
      "text/plain": [
       "'AAAGGSGGSBBBGGSGGSCCC'"
      ]
     },
     "execution_count": 15,
     "metadata": {},
     "output_type": "execute_result"
    }
   ],
   "source": [
    "combination = \"ABC\"\n",
    "repeat = 3\n",
    "linker = \"GGSGGS\"\n",
    "output_epitope(combination, repeat, linker)"
   ]
  },
  {
   "cell_type": "code",
   "execution_count": 13,
   "id": "83313373",
   "metadata": {},
   "outputs": [],
   "source": [
    "def output_epitope(combination, repeat, linker=linker):\n",
    "    list_chars = [i * repeat for i in combination]\n",
    "    s = linker.join(list_chars)\n",
    "    return s"
   ]
  },
  {
   "cell_type": "code",
   "execution_count": 17,
   "id": "8bd08efa",
   "metadata": {},
   "outputs": [
    {
     "ename": "UFuncTypeError",
     "evalue": "ufunc 'multiply' did not contain a loop with signature matching types (dtype((numpy.record, [('ID', 'O'), ('amino-acid', 'O')])), dtype('int64')) -> None",
     "output_type": "error",
     "traceback": [
      "\u001b[0;31m---------------------------------------------------------------------------\u001b[0m",
      "\u001b[0;31mUFuncTypeError\u001b[0m                            Traceback (most recent call last)",
      "Input \u001b[0;32mIn [17]\u001b[0m, in \u001b[0;36m<cell line: 1>\u001b[0;34m()\u001b[0m\n\u001b[0;32m----> 1\u001b[0m \u001b[43moutput_epitope\u001b[49m\u001b[43m(\u001b[49m\u001b[43msets\u001b[49m\u001b[43m[\u001b[49m\u001b[38;5;241;43m1\u001b[39;49m\u001b[43m]\u001b[49m\u001b[43m,\u001b[49m\u001b[38;5;241;43m1\u001b[39;49m\u001b[43m,\u001b[49m\u001b[43mlinker\u001b[49m\u001b[43m)\u001b[49m\n",
      "Input \u001b[0;32mIn [13]\u001b[0m, in \u001b[0;36moutput_epitope\u001b[0;34m(combination, repeat, linker)\u001b[0m\n\u001b[1;32m      1\u001b[0m \u001b[38;5;28;01mdef\u001b[39;00m \u001b[38;5;21moutput_epitope\u001b[39m(combination, repeat, linker):\n\u001b[0;32m----> 2\u001b[0m     list_chars \u001b[38;5;241m=\u001b[39m [i \u001b[38;5;241m*\u001b[39m repeat \u001b[38;5;28;01mfor\u001b[39;00m i \u001b[38;5;129;01min\u001b[39;00m combination]\n\u001b[1;32m      3\u001b[0m     s \u001b[38;5;241m=\u001b[39m linker\u001b[38;5;241m.\u001b[39mjoin(list_chars)\n\u001b[1;32m      4\u001b[0m     \u001b[38;5;28;01mreturn\u001b[39;00m s\n",
      "Input \u001b[0;32mIn [13]\u001b[0m, in \u001b[0;36m<listcomp>\u001b[0;34m(.0)\u001b[0m\n\u001b[1;32m      1\u001b[0m \u001b[38;5;28;01mdef\u001b[39;00m \u001b[38;5;21moutput_epitope\u001b[39m(combination, repeat, linker):\n\u001b[0;32m----> 2\u001b[0m     list_chars \u001b[38;5;241m=\u001b[39m [\u001b[43mi\u001b[49m\u001b[43m \u001b[49m\u001b[38;5;241;43m*\u001b[39;49m\u001b[43m \u001b[49m\u001b[43mrepeat\u001b[49m \u001b[38;5;28;01mfor\u001b[39;00m i \u001b[38;5;129;01min\u001b[39;00m combination]\n\u001b[1;32m      3\u001b[0m     s \u001b[38;5;241m=\u001b[39m linker\u001b[38;5;241m.\u001b[39mjoin(list_chars)\n\u001b[1;32m      4\u001b[0m     \u001b[38;5;28;01mreturn\u001b[39;00m s\n",
      "\u001b[0;31mUFuncTypeError\u001b[0m: ufunc 'multiply' did not contain a loop with signature matching types (dtype((numpy.record, [('ID', 'O'), ('amino-acid', 'O')])), dtype('int64')) -> None"
     ]
    }
   ],
   "source": [
    "output_epitope(sets[1],1,linker)"
   ]
  },
  {
   "cell_type": "code",
   "execution_count": null,
   "id": "6e214811",
   "metadata": {},
   "outputs": [],
   "source": []
  }
 ],
 "metadata": {
  "kernelspec": {
   "display_name": "Python 3 (ipykernel)",
   "language": "python",
   "name": "python3"
  },
  "language_info": {
   "codemirror_mode": {
    "name": "ipython",
    "version": 3
   },
   "file_extension": ".py",
   "mimetype": "text/x-python",
   "name": "python",
   "nbconvert_exporter": "python",
   "pygments_lexer": "ipython3",
   "version": "3.9.12"
  }
 },
 "nbformat": 4,
 "nbformat_minor": 5
}
