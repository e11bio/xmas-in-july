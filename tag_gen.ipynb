{
 "cells": [
  {
   "cell_type": "markdown",
   "id": "06880719",
   "metadata": {},
   "source": [
    "# This should take\n",
    "- an epitope list (consisting of ID, amino acid sequence) of length _n_\n",
    "- a _k_ to generate\n",
    "- an inter-epitope linker (amino acid, hard code for now)\n",
    "- a scaffold-epitope linker (amino acid; hard code)\n",
    "- account for specified ORF?\n",
    "\n",
    "## some math stuff\n",
    "- _n_ choose _k_ without replacement\n",
    "# output\n",
    "- a list of epitope_IDS (i.e. ID-ID-ID), Xmas insert to be cloned into GFP -- the gBlock, basically\n",
    "- the final GFP-epitope structure for each\n",
    "- check that final structure does not exceed AAV payload (section between ITRs)\n",
    "## bonus items\n",
    "- codon optimization\n",
    "- a snapgene/DNA scaffold\n",
    "- restriction cloning mimc"
   ]
  },
  {
   "cell_type": "code",
   "execution_count": 1,
   "id": "0b52d167",
   "metadata": {},
   "outputs": [],
   "source": [
    "import itertools\n",
    "import pandas as pd\n",
    "from itertools import combinations"
   ]
  },
  {
   "cell_type": "code",
   "execution_count": 2,
   "id": "5c8c1e8b",
   "metadata": {},
   "outputs": [],
   "source": [
    "def rSubset(arr, r):\n",
    "    '''return list of all subsets from an array of length r - i.e. from array choose k'''\n",
    "    # return list of all subsets of length r\n",
    "    # to deal with duplicate subsets use \n",
    "    # set(list(combinations(arr, r)))\n",
    "    return list(combinations(arr, r))"
   ]
  },
  {
   "cell_type": "code",
   "execution_count": 3,
   "id": "522ae7c9",
   "metadata": {},
   "outputs": [],
   "source": [
    "def makeTag(epitope_sets, linker):\n",
    "    '''from a list of tuples, combine name sets + epitope sets with specified linker. just some string manip, basically.'''\n",
    "    # collector of new things\n",
    "    knockin = [] #the tag we're knocking in\n",
    "    \n",
    "    # loop the old things\n",
    "    for epitope_set in epitope_sets:\n",
    "        # construct name and seq into new lists\n",
    "        name = []\n",
    "        seq = []\n",
    "        for i in range(len(epitope_set)):\n",
    "            name.append(epitope_set[i][0])\n",
    "            seq.append(epitope_set[i][1].strip(' '))\n",
    "\n",
    "        # construct final name and sequence for a thing, and append to new_things\n",
    "        name = ''.join(name) #name the tag\n",
    "        seq = f'{linker}'.join(seq) #make the tag sequence\n",
    "        knockin.append((name, seq)) #add to array\n",
    "\n",
    "    # return new things as a dictionary\n",
    "    return dict(knockin)"
   ]
  },
  {
   "cell_type": "code",
   "execution_count": 4,
   "id": "f5224d73",
   "metadata": {},
   "outputs": [],
   "source": [
    "# getting to ~business\n",
    "epitope_fi = 'test_epitopes.csv'\n",
    "n = 9\n",
    "k = 3\n",
    "interEp = \"GGSGGS\" #[GGS]2. for in between epitopes\n",
    "interScaffEp = \"GGSGGS\" #for linking the eGFP to the epitope with appropriate ORF + cut site \n",
    "endEpitopes = None #need to add stop codon + cut site for cloning\n",
    "orf_buffer = 2 #this is for checking later but who knows how orfs work"
   ]
  },
  {
   "cell_type": "code",
   "execution_count": 5,
   "id": "26617cc9",
   "metadata": {},
   "outputs": [],
   "source": [
    "epitopes = pd.read_csv(epitope_fi)\n",
    "records = epitopes.to_records(index=False)"
   ]
  },
  {
   "cell_type": "code",
   "execution_count": 6,
   "id": "291587e8",
   "metadata": {},
   "outputs": [
    {
     "ename": "NameError",
     "evalue": "name 'tupled' is not defined",
     "output_type": "error",
     "traceback": [
      "\u001b[0;31m---------------------------------------------------------------------------\u001b[0m",
      "\u001b[0;31mNameError\u001b[0m                                 Traceback (most recent call last)",
      "Input \u001b[0;32mIn [6]\u001b[0m, in \u001b[0;36m<cell line: 1>\u001b[0;34m()\u001b[0m\n\u001b[0;32m----> 1\u001b[0m sets \u001b[38;5;241m=\u001b[39m rSubset(\u001b[43mtupled\u001b[49m, k)\n\u001b[1;32m      2\u001b[0m \u001b[38;5;28mprint\u001b[39m(\u001b[38;5;28mlen\u001b[39m(sets))\n",
      "\u001b[0;31mNameError\u001b[0m: name 'tupled' is not defined"
     ]
    }
   ],
   "source": [
    "sets = rSubset(tupled, k)\n",
    "print(len(sets)) # sanity check that n choose k is correct"
   ]
  },
  {
   "cell_type": "code",
   "execution_count": null,
   "id": "ab04549f",
   "metadata": {},
   "outputs": [],
   "source": [
    "xmas_sets = makeTag(sets, interEp)"
   ]
  },
  {
   "cell_type": "code",
   "execution_count": null,
   "id": "76b4b950",
   "metadata": {},
   "outputs": [],
   "source": [
    "# aaabbbccc, fronntAAAAlinkerBBBBlinkerCCCCtail"
   ]
  },
  {
   "cell_type": "code",
   "execution_count": null,
   "id": "30016e7b",
   "metadata": {},
   "outputs": [],
   "source": [
    "# def output_epitope(combination, repeat, linker):\n",
    "#         list_chars = [i * repeat for i in combination]\n",
    "#         linker = '-' + linker + \"-\"\n",
    "#         s = linker.join(list_chars)\n",
    "#         return s\n",
    "#     ...: \n",
    "#     ...: \n",
    "#     ...:\n",
    "#     ...: \n",
    "#     ...: output_epitope(combination, repeat, linker)\n",
    "# Out[11]: 'AAA-GGSGGS-BBB-GGSGGS-CCC'"
   ]
  },
  {
   "cell_type": "code",
   "execution_count": null,
   "id": "16c889f8",
   "metadata": {},
   "outputs": [],
   "source": [
    "# combination = \"ABC\"\n",
    "# repeat = 3\n",
    "# linker = \"GGSGGS\"\n",
    "# output_epitope(combination, repeat, linker)"
   ]
  },
  {
   "cell_type": "code",
   "execution_count": null,
   "id": "83313373",
   "metadata": {},
   "outputs": [],
   "source": [
    "# def output_epitope(combination, repeat, linker=linker):\n",
    "#     list_chars = [i * repeat for i in combination]\n",
    "#     s = linker.join(list_chars)\n",
    "#     return s"
   ]
  },
  {
   "cell_type": "code",
   "execution_count": null,
   "id": "bb224848",
   "metadata": {},
   "outputs": [],
   "source": []
  },
  {
   "cell_type": "code",
   "execution_count": null,
   "id": "9143efd0",
   "metadata": {},
   "outputs": [],
   "source": []
  }
 ],
 "metadata": {
  "kernelspec": {
   "display_name": "Python 3 (ipykernel)",
   "language": "python",
   "name": "python3"
  },
  "language_info": {
   "codemirror_mode": {
    "name": "ipython",
    "version": 3
   },
   "file_extension": ".py",
   "mimetype": "text/x-python",
   "name": "python",
   "nbconvert_exporter": "python",
   "pygments_lexer": "ipython3",
   "version": "3.9.12"
  }
 },
 "nbformat": 4,
 "nbformat_minor": 5
}
