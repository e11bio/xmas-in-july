{
 "cells": [
  {
   "cell_type": "markdown",
   "id": "06880719",
   "metadata": {},
   "source": [
    "# This should take\n",
    "- an epitope list (consisting of ID, amino acid sequence) of length _n_\n",
    "- a _k_ to generate\n",
    "- an inter-epitope linker (amino acid, hard code for now)\n",
    "- a scaffold-epitope linker (amino acid; hard code)\n",
    "- account for specified ORF?\n",
    "\n",
    "## some math stuff\n",
    "- _n_ choose _k_ without replacement\n",
    "# output\n",
    "- a list of epitope_IDS (i.e. ID-ID-ID), Xmas insert to be cloned into GFP -- the gBlock, basically\n",
    "- the final GFP-epitope structure for each\n",
    "- check that final structure does not exceed AAV payload (section between ITRs)\n",
    "## bonus items\n",
    "- codon optimization\n",
    "- a snapgene/DNA scaffold\n",
    "- restriction cloning mimc\n",
    "\n",
    "# some biology stuff, i.e. order of events\n",
    "Workflow is:\n",
    "1. AA: epitope combos + appropriate linkers\n",
    "2. codon-optimize (mus musculus, avoid EcoRI + BsrGI sites) to DNA seq\n",
    "3. Add cloning tails (known; identical) with primer length?\n",
    "    primers can come from main GFP\n",
    "4. Output gBlock sequences (how does Genscript want these?)\n"
   ]
  },
  {
   "cell_type": "code",
   "execution_count": 1,
   "id": "0b52d167",
   "metadata": {},
   "outputs": [],
   "source": [
    "import itertools\n",
    "import pandas as pd\n",
    "from itertools import combinations\n",
    "import random\n",
    "from dnachisel import *"
   ]
  },
  {
   "cell_type": "code",
   "execution_count": 2,
   "id": "5c8c1e8b",
   "metadata": {
    "code_folding": [
     0
    ]
   },
   "outputs": [],
   "source": [
    "def rSubset(arr, r):\n",
    "    '''return list of all subsets from an array of length r - i.e. from array choose k'''\n",
    "    # return list of all subsets of length r\n",
    "    # to deal with duplicate subsets use \n",
    "    # set(list(combinations(arr, r)))\n",
    "    return list(combinations(arr, r))"
   ]
  },
  {
   "cell_type": "code",
   "execution_count": 3,
   "id": "5499bc36",
   "metadata": {
    "code_folding": [
     0
    ]
   },
   "outputs": [],
   "source": [
    "def triplicator(epitope_sets, repeats=1):\n",
    "    '''takes a list of single epitopes and generates aa amino acid with # linkrs'''\n",
    "    triple_set = []\n",
    "    for ep in epitope_sets:\n",
    "        new_ep = [(ep) for _ in range(3)]\n",
    "        triple_set.append(new_ep)\n",
    "    return triple_set"
   ]
  },
  {
   "cell_type": "code",
   "execution_count": 4,
   "id": "522ae7c9",
   "metadata": {
    "code_folding": [
     0
    ]
   },
   "outputs": [],
   "source": [
    "def makeTag(epitope_sets, linker=None, prepend_linker=None, append_linker=None):\n",
    "    '''from a list of tuples, combine name sets + epitope sets with specified inter-epitope.\n",
    "    just some string manip, basically.\n",
    "    shuffles multi-epitope n choose k setups\n",
    "    if a prepend is supplied, will add the specified prepend'''\n",
    "    # collector of new things\n",
    "    knockin = [] #the tag we're knocking in\n",
    "    \n",
    "    # loop the old things\n",
    "    for epitope_set in epitope_sets:\n",
    "        # construct name and seq into new lists\n",
    "        name = []\n",
    "        seq = []\n",
    "        \n",
    "        #shuffler to avoid bias in epitope success\n",
    "        to_shuffle = list(epitope_set)\n",
    "        random.shuffle(to_shuffle) \n",
    "        epitope_set = tuple(to_shuffle)\n",
    "        \n",
    "        # make array\n",
    "        for i in range(len(epitope_set)):\n",
    "            name.append(epitope_set[i][0].replace(' ',''))\n",
    "            seq.append(epitope_set[i][1].strip(' '))\n",
    "\n",
    "        # construct final name and sequence and append\n",
    "        name = f'-'.join(name) # name that puppy\n",
    "        seq = f'{linker}'.join(seq) #make the tag sequence\n",
    "        \n",
    "        if prepend_linker:\n",
    "            seq = prepend_linker + seq\n",
    "        if append_linker:\n",
    "            seq = seq + append_linker\n",
    "        knockin.append((name, seq)) #add to array\n",
    "\n",
    "    # return new things as a dictionary\n",
    "    return dict(knockin)"
   ]
  },
  {
   "cell_type": "code",
   "execution_count": 5,
   "id": "2cb8617d",
   "metadata": {},
   "outputs": [],
   "source": [
    "interEp = \"GGSGGS\" #[GGS]2. for in between epitopes\n",
    "interScaffEp = \"GGSGGS\" #linker between eGFP end and beginning of tag\n",
    "\n",
    "preEpitopee =\"ggacgagctgtacaag\" #end of eGFP with BsrGI site\n",
    "endEpitopes = \"taagaattcgatatcaag\" #stop codon + EcoRI\n"
   ]
  },
  {
   "cell_type": "code",
   "execution_count": 6,
   "id": "6df98031",
   "metadata": {},
   "outputs": [],
   "source": [
    "def read_list(csv, columns = None):\n",
    "    '''returns records of name + aa seq'''\n",
    "    epitopes = pd.read_csv(csv)\n",
    "    records = epitopes[columns].to_records(index=False)\n",
    "    return records"
   ]
  },
  {
   "cell_type": "code",
   "execution_count": 7,
   "id": "e289e655",
   "metadata": {},
   "outputs": [],
   "source": [
    "all_list = read_list('xmas-in-july_tagSet.csv', columns = ['Name', 'AA seq'])\n",
    "xmas_list = read_list('xmas-in-july_tagSet.csv', columns = ['Name', 'AA seq'])\n",
    "jun_list = read_list('Human Protein Atlas - under 40 AAs.csv', columns = ['Antibody','Antigen Sequence'])"
   ]
  },
  {
   "cell_type": "code",
   "execution_count": 8,
   "id": "594637c6",
   "metadata": {},
   "outputs": [],
   "source": [
    "xmas_sets = rSubset(xmas_list, 3) #combo subset\n",
    "singlets = rSubset(all_list,1) # just easy\n",
    "triplicates = triplicator(all_list,3)\n",
    "jun_triplicates = triplicator(jun_list,3)\n",
    "\n",
    "tagSets = [xmas_sets, singlets, triplicates, jun_triplicates] # put these together"
   ]
  },
  {
   "cell_type": "code",
   "execution_count": 9,
   "id": "ab04549f",
   "metadata": {},
   "outputs": [],
   "source": [
    "columns = ['seq_name', 'seq_aa']\n",
    "df = pd.DataFrame(columns = columns)\n",
    "\n",
    "for tagSet in tagSets:\n",
    "    tagDict = makeTag(tagSet,interEp,\"GGSGGS\") #make amino acid sequences\n",
    "    new = pd.DataFrame(tagDict.items(), columns = columns)\n",
    "    df = pd.concat([df, new])#     df = pd.concat(df,pd.DataFrame(tagDict.values()))"
   ]
  },
  {
   "cell_type": "code",
   "execution_count": 10,
   "id": "6baf57e0",
   "metadata": {},
   "outputs": [
    {
     "data": {
      "text/html": [
       "<div>\n",
       "<style scoped>\n",
       "    .dataframe tbody tr th:only-of-type {\n",
       "        vertical-align: middle;\n",
       "    }\n",
       "\n",
       "    .dataframe tbody tr th {\n",
       "        vertical-align: top;\n",
       "    }\n",
       "\n",
       "    .dataframe thead th {\n",
       "        text-align: right;\n",
       "    }\n",
       "</style>\n",
       "<table border=\"1\" class=\"dataframe\">\n",
       "  <thead>\n",
       "    <tr style=\"text-align: right;\">\n",
       "      <th></th>\n",
       "      <th>seq_name</th>\n",
       "      <th>seq_aa</th>\n",
       "    </tr>\n",
       "  </thead>\n",
       "  <tbody>\n",
       "    <tr>\n",
       "      <th>0</th>\n",
       "      <td>FLAG-C-Myc-HA</td>\n",
       "      <td>GGSGGSDYKDDDDKGGSGGSEQKLISEEDLGGSGGSYPYDVPDYA</td>\n",
       "    </tr>\n",
       "    <tr>\n",
       "      <th>1</th>\n",
       "      <td>FLAG-HA-OLLAS</td>\n",
       "      <td>GGSGGSDYKDDDDKGGSGGSYPYDVPDYAGGSGGSSGFANELGPRLMGK</td>\n",
       "    </tr>\n",
       "    <tr>\n",
       "      <th>2</th>\n",
       "      <td>FLAG-StrepII-HA</td>\n",
       "      <td>GGSGGSDYKDDDDKGGSGGSNWSHPQFEKGGSGGSYPYDVPDYA</td>\n",
       "    </tr>\n",
       "    <tr>\n",
       "      <th>3</th>\n",
       "      <td>V5-HA-FLAG</td>\n",
       "      <td>GGSGGSGKPIPNPLLGLDSTGGSGGSYPYDVPDYAGGSGGSDYKDDDDK</td>\n",
       "    </tr>\n",
       "    <tr>\n",
       "      <th>4</th>\n",
       "      <td>HA-ALFA-FLAG</td>\n",
       "      <td>GGSGGSYPYDVPDYAGGSGGSSRLEEELRRRLTEGGSGGSDYKDDDDK</td>\n",
       "    </tr>\n",
       "    <tr>\n",
       "      <th>...</th>\n",
       "      <td>...</td>\n",
       "      <td>...</td>\n",
       "    </tr>\n",
       "    <tr>\n",
       "      <th>45</th>\n",
       "      <td>HPA052507-HPA052507-HPA052507</td>\n",
       "      <td>GGSGGSPTPDQKREDDQGAAEIQVPDLEADLQGGSGGSPTPDQKRE...</td>\n",
       "    </tr>\n",
       "    <tr>\n",
       "      <th>46</th>\n",
       "      <td>HPA060900-HPA060900-HPA060900</td>\n",
       "      <td>GGSGGSTYRPRPRRSLQPPELIGAMLEPTDEEPKGGSGGSTYRPRP...</td>\n",
       "    </tr>\n",
       "    <tr>\n",
       "      <th>47</th>\n",
       "      <td>HPA055941-HPA055941-HPA055941</td>\n",
       "      <td>GGSGGSGRRYRPRRCLRLAQLVGPMLEPSVPEPQGGSGGSGRRYRP...</td>\n",
       "    </tr>\n",
       "    <tr>\n",
       "      <th>48</th>\n",
       "      <td>HPA035081-HPA035081-HPA035081</td>\n",
       "      <td>GGSGGSMETVFEEMDEESTGGVSSSKEEIVLGQRLHGGSGGSMETV...</td>\n",
       "    </tr>\n",
       "    <tr>\n",
       "      <th>49</th>\n",
       "      <td>HPA065484-HPA065484-HPA065484</td>\n",
       "      <td>GGSGGSLEHRKDFGYHSAFAQQSKIHSGGKNLGGSGGSLEHRKDFG...</td>\n",
       "    </tr>\n",
       "  </tbody>\n",
       "</table>\n",
       "<p>152 rows × 2 columns</p>\n",
       "</div>"
      ],
      "text/plain": [
       "                         seq_name  \\\n",
       "0                   FLAG-C-Myc-HA   \n",
       "1                   FLAG-HA-OLLAS   \n",
       "2                 FLAG-StrepII-HA   \n",
       "3                      V5-HA-FLAG   \n",
       "4                    HA-ALFA-FLAG   \n",
       "..                            ...   \n",
       "45  HPA052507-HPA052507-HPA052507   \n",
       "46  HPA060900-HPA060900-HPA060900   \n",
       "47  HPA055941-HPA055941-HPA055941   \n",
       "48  HPA035081-HPA035081-HPA035081   \n",
       "49  HPA065484-HPA065484-HPA065484   \n",
       "\n",
       "                                               seq_aa  \n",
       "0       GGSGGSDYKDDDDKGGSGGSEQKLISEEDLGGSGGSYPYDVPDYA  \n",
       "1   GGSGGSDYKDDDDKGGSGGSYPYDVPDYAGGSGGSSGFANELGPRLMGK  \n",
       "2        GGSGGSDYKDDDDKGGSGGSNWSHPQFEKGGSGGSYPYDVPDYA  \n",
       "3   GGSGGSGKPIPNPLLGLDSTGGSGGSYPYDVPDYAGGSGGSDYKDDDDK  \n",
       "4    GGSGGSYPYDVPDYAGGSGGSSRLEEELRRRLTEGGSGGSDYKDDDDK  \n",
       "..                                                ...  \n",
       "45  GGSGGSPTPDQKREDDQGAAEIQVPDLEADLQGGSGGSPTPDQKRE...  \n",
       "46  GGSGGSTYRPRPRRSLQPPELIGAMLEPTDEEPKGGSGGSTYRPRP...  \n",
       "47  GGSGGSGRRYRPRRCLRLAQLVGPMLEPSVPEPQGGSGGSGRRYRP...  \n",
       "48  GGSGGSMETVFEEMDEESTGGVSSSKEEIVLGQRLHGGSGGSMETV...  \n",
       "49  GGSGGSLEHRKDFGYHSAFAQQSKIHSGGKNLGGSGGSLEHRKDFG...  \n",
       "\n",
       "[152 rows x 2 columns]"
      ]
     },
     "execution_count": 10,
     "metadata": {},
     "output_type": "execute_result"
    }
   ],
   "source": []
  },
  {
   "cell_type": "code",
   "execution_count": null,
   "id": "da082f78",
   "metadata": {},
   "outputs": [],
   "source": [
    "# # \n",
    "### basically it would be nice to call things \"GGS-Flagx3\" rather than flag flag flag but too bad\n",
    "# something breaks when _ or - are in the name\n",
    "# probably needs regex but lil clean up for names\n",
    "\n",
    "# # initializing string \n",
    "# test_str = \"HPA052507-HPA052507HPA052507\"\n",
    "  \n",
    "# # printing original string \n",
    "# print(\"The original string is : \" + test_str)\n",
    "  \n",
    "# # using list slicing + find()\n",
    "# # Check if string repeats itself\n",
    "# res = None\n",
    "# temp = (test_str + test_str).find(test_str, 1, -1)\n",
    "# if temp != -1:\n",
    "#     res = test_str[:temp]\n",
    "\n",
    "# print(res)\n",
    "# # print(\"The root substring of string : \" + res)"
   ]
  },
  {
   "cell_type": "code",
   "execution_count": null,
   "id": "085c7fd9",
   "metadata": {},
   "outputs": [],
   "source": []
  },
  {
   "cell_type": "markdown",
   "id": "aae18e67",
   "metadata": {},
   "source": [
    "# codon optimization o'clock\n",
    "- avoid BsrGI + EcoRI\n",
    "- optimize for Mus musculus\n",
    "- append cloning tails"
   ]
  },
  {
   "cell_type": "code",
   "execution_count": null,
   "id": "e689b104",
   "metadata": {},
   "outputs": [],
   "source": [
    "test = triplet_Tags['FLAG_FLAG_FLAG']"
   ]
  },
  {
   "cell_type": "code",
   "execution_count": null,
   "id": "9f1fad05",
   "metadata": {},
   "outputs": [],
   "source": [
    "cloning_RE = [EnzymeSitePattern(\"BsrGI\"), EnzymeSitePattern(\"EcoRI\")]\n",
    "cloning_RE"
   ]
  },
  {
   "cell_type": "code",
   "execution_count": null,
   "id": "7379741f",
   "metadata": {
    "scrolled": true
   },
   "outputs": [],
   "source": [
    "from dnachisel import biotools as bt"
   ]
  },
  {
   "cell_type": "code",
   "execution_count": null,
   "id": "47913c67",
   "metadata": {},
   "outputs": [],
   "source": [
    "import python_codon_tables as pct\n",
    "for key in pct.get_all_available_codons_tables().keys():\n",
    "    print(key)"
   ]
  },
  {
   "cell_type": "code",
   "execution_count": null,
   "id": "60a35349",
   "metadata": {},
   "outputs": [],
   "source": [
    "seq_test = reverse_translate(test, randomize_codons=True, table = 'Standard')"
   ]
  },
  {
   "cell_type": "code",
   "execution_count": null,
   "id": "e48b72d4",
   "metadata": {},
   "outputs": [],
   "source": [
    "def translate(seq):\n",
    "    start_seq = reverse_translate(test,\n",
    "                                  randomize_codons=True,\n",
    "                                  table = 'Standard')"
   ]
  },
  {
   "cell_type": "code",
   "execution_count": null,
   "id": "21889b64",
   "metadata": {},
   "outputs": [],
   "source": [
    "\n",
    "problem = DnaOptimizationProblem(\n",
    "    sequence=seq_test,\n",
    "    constraints=[\n",
    "        AvoidPattern(cloning_RE[0]), #EcoRI - hacky but oh well, can write iterator later\n",
    "        AvoidPattern(cloning_RE[1]), #BsrGI\n",
    "    ],\n",
    "    objectives=[CodonOptimize(species='m_musculus_domesticus')]\n",
    ")\n",
    "\n",
    "# SOLVE THE CONSTRAINTS, OPTIMIZE WITH RESPECT TO THE OBJECTIVE\n",
    "\n",
    "problem.resolve_constraints()\n",
    "problem.optimize()\n",
    "\n",
    "# PRINT SUMMARIES TO CHECK THAT CONSTRAINTS PASS\n",
    "\n",
    "print(problem.constraints_text_summary())\n",
    "print(problem.objectives_text_summary())\n",
    "\n",
    "# GET THE FINAL SEQUENCE (AS STRING OR ANNOTATED BIOPYTHON RECORDS)\n",
    "\n",
    "final_sequence = problem.sequence  # string\n",
    "final_record = problem.to_record(with_sequence_edits=True)\n"
   ]
  },
  {
   "cell_type": "code",
   "execution_count": null,
   "id": "04d4cb4d",
   "metadata": {},
   "outputs": [],
   "source": [
    "print(final_sequence)"
   ]
  },
  {
   "cell_type": "code",
   "execution_count": null,
   "id": "1da3610a",
   "metadata": {},
   "outputs": [],
   "source": []
  }
 ],
 "metadata": {
  "kernelspec": {
   "display_name": "Python 3 (ipykernel)",
   "language": "python",
   "name": "python3"
  },
  "language_info": {
   "codemirror_mode": {
    "name": "ipython",
    "version": 3
   },
   "file_extension": ".py",
   "mimetype": "text/x-python",
   "name": "python",
   "nbconvert_exporter": "python",
   "pygments_lexer": "ipython3",
   "version": "3.9.12"
  }
 },
 "nbformat": 4,
 "nbformat_minor": 5
}
